{
 "cells": [
  {
   "cell_type": "code",
   "execution_count": 1,
   "id": "666f8e81",
   "metadata": {},
   "outputs": [],
   "source": [
    "import pandas as pd\n",
    "import seaborn as sns\n",
    "import matplotlib.pyplot as plt\n",
    "\n",
    "from xgboost import XGBRegressor\n",
    "\n",
    "from sklearn.model_selection import train_test_split\n",
    "from sklearn.model_selection import GridSearchCV\n",
    "\n",
    "from sklearn.metrics import mean_absolute_error, mean_squared_error, r2_score"
   ]
  },
  {
   "cell_type": "code",
   "execution_count": 2,
   "id": "67bb813f",
   "metadata": {},
   "outputs": [
    {
     "data": {
      "text/html": [
       "<div>\n",
       "<style scoped>\n",
       "    .dataframe tbody tr th:only-of-type {\n",
       "        vertical-align: middle;\n",
       "    }\n",
       "\n",
       "    .dataframe tbody tr th {\n",
       "        vertical-align: top;\n",
       "    }\n",
       "\n",
       "    .dataframe thead th {\n",
       "        text-align: right;\n",
       "    }\n",
       "</style>\n",
       "<table border=\"1\" class=\"dataframe\">\n",
       "  <thead>\n",
       "    <tr style=\"text-align: right;\">\n",
       "      <th></th>\n",
       "      <th>carat</th>\n",
       "      <th>cut</th>\n",
       "      <th>color</th>\n",
       "      <th>clarity</th>\n",
       "      <th>depth</th>\n",
       "      <th>table</th>\n",
       "      <th>price</th>\n",
       "      <th>x</th>\n",
       "      <th>y</th>\n",
       "      <th>z</th>\n",
       "    </tr>\n",
       "  </thead>\n",
       "  <tbody>\n",
       "    <tr>\n",
       "      <th>1</th>\n",
       "      <td>0.23</td>\n",
       "      <td>Ideal</td>\n",
       "      <td>E</td>\n",
       "      <td>SI2</td>\n",
       "      <td>61.5</td>\n",
       "      <td>55.0</td>\n",
       "      <td>326</td>\n",
       "      <td>3.95</td>\n",
       "      <td>3.98</td>\n",
       "      <td>2.43</td>\n",
       "    </tr>\n",
       "    <tr>\n",
       "      <th>2</th>\n",
       "      <td>0.21</td>\n",
       "      <td>Premium</td>\n",
       "      <td>E</td>\n",
       "      <td>SI1</td>\n",
       "      <td>59.8</td>\n",
       "      <td>61.0</td>\n",
       "      <td>326</td>\n",
       "      <td>3.89</td>\n",
       "      <td>3.84</td>\n",
       "      <td>2.31</td>\n",
       "    </tr>\n",
       "    <tr>\n",
       "      <th>3</th>\n",
       "      <td>0.23</td>\n",
       "      <td>Good</td>\n",
       "      <td>E</td>\n",
       "      <td>VS1</td>\n",
       "      <td>56.9</td>\n",
       "      <td>65.0</td>\n",
       "      <td>327</td>\n",
       "      <td>4.05</td>\n",
       "      <td>4.07</td>\n",
       "      <td>2.31</td>\n",
       "    </tr>\n",
       "    <tr>\n",
       "      <th>4</th>\n",
       "      <td>0.29</td>\n",
       "      <td>Premium</td>\n",
       "      <td>I</td>\n",
       "      <td>VS2</td>\n",
       "      <td>62.4</td>\n",
       "      <td>58.0</td>\n",
       "      <td>334</td>\n",
       "      <td>4.20</td>\n",
       "      <td>4.23</td>\n",
       "      <td>2.63</td>\n",
       "    </tr>\n",
       "    <tr>\n",
       "      <th>5</th>\n",
       "      <td>0.31</td>\n",
       "      <td>Good</td>\n",
       "      <td>J</td>\n",
       "      <td>SI2</td>\n",
       "      <td>63.3</td>\n",
       "      <td>58.0</td>\n",
       "      <td>335</td>\n",
       "      <td>4.34</td>\n",
       "      <td>4.35</td>\n",
       "      <td>2.75</td>\n",
       "    </tr>\n",
       "  </tbody>\n",
       "</table>\n",
       "</div>"
      ],
      "text/plain": [
       "   carat      cut color clarity  depth  table  price     x     y     z\n",
       "1   0.23    Ideal     E     SI2   61.5   55.0    326  3.95  3.98  2.43\n",
       "2   0.21  Premium     E     SI1   59.8   61.0    326  3.89  3.84  2.31\n",
       "3   0.23     Good     E     VS1   56.9   65.0    327  4.05  4.07  2.31\n",
       "4   0.29  Premium     I     VS2   62.4   58.0    334  4.20  4.23  2.63\n",
       "5   0.31     Good     J     SI2   63.3   58.0    335  4.34  4.35  2.75"
      ]
     },
     "execution_count": 2,
     "metadata": {},
     "output_type": "execute_result"
    }
   ],
   "source": [
    "data = pd.read_csv(\"diamonds.csv\", index_col = 0)\n",
    "data.head()"
   ]
  },
  {
   "cell_type": "code",
   "execution_count": 3,
   "id": "9b3fbb2a",
   "metadata": {},
   "outputs": [
    {
     "data": {
      "text/plain": [
       "(53940, 10)"
      ]
     },
     "execution_count": 3,
     "metadata": {},
     "output_type": "execute_result"
    }
   ],
   "source": [
    "data.shape"
   ]
  },
  {
   "cell_type": "code",
   "execution_count": 4,
   "id": "34f9782b",
   "metadata": {},
   "outputs": [
    {
     "data": {
      "text/plain": [
       "carat      0\n",
       "cut        0\n",
       "color      0\n",
       "clarity    0\n",
       "depth      0\n",
       "table      0\n",
       "price      0\n",
       "x          0\n",
       "y          0\n",
       "z          0\n",
       "dtype: int64"
      ]
     },
     "execution_count": 4,
     "metadata": {},
     "output_type": "execute_result"
    }
   ],
   "source": [
    "data.isna().sum()"
   ]
  },
  {
   "cell_type": "code",
   "execution_count": 5,
   "id": "ab1be18f",
   "metadata": {},
   "outputs": [
    {
     "data": {
      "text/plain": [
       "carat      float64\n",
       "cut         object\n",
       "color       object\n",
       "clarity     object\n",
       "depth      float64\n",
       "table      float64\n",
       "price        int64\n",
       "x          float64\n",
       "y          float64\n",
       "z          float64\n",
       "dtype: object"
      ]
     },
     "execution_count": 5,
     "metadata": {},
     "output_type": "execute_result"
    }
   ],
   "source": [
    "data.dtypes"
   ]
  },
  {
   "cell_type": "code",
   "execution_count": 6,
   "id": "8e2c4524",
   "metadata": {},
   "outputs": [
    {
     "data": {
      "text/plain": [
       "Ideal        21551\n",
       "Premium      13791\n",
       "Very Good    12082\n",
       "Good          4906\n",
       "Fair          1610\n",
       "Name: cut, dtype: int64"
      ]
     },
     "execution_count": 6,
     "metadata": {},
     "output_type": "execute_result"
    }
   ],
   "source": [
    "data['cut'].value_counts()"
   ]
  },
  {
   "cell_type": "code",
   "execution_count": 7,
   "id": "1c74bd5f",
   "metadata": {},
   "outputs": [
    {
     "data": {
      "text/plain": [
       "G    11292\n",
       "E     9797\n",
       "F     9542\n",
       "H     8304\n",
       "D     6775\n",
       "I     5422\n",
       "J     2808\n",
       "Name: color, dtype: int64"
      ]
     },
     "execution_count": 7,
     "metadata": {},
     "output_type": "execute_result"
    }
   ],
   "source": [
    "data['color'].value_counts()"
   ]
  },
  {
   "cell_type": "code",
   "execution_count": 8,
   "id": "2dfc6646",
   "metadata": {},
   "outputs": [
    {
     "data": {
      "text/plain": [
       "SI1     13065\n",
       "VS2     12258\n",
       "SI2      9194\n",
       "VS1      8171\n",
       "VVS2     5066\n",
       "VVS1     3655\n",
       "IF       1790\n",
       "I1        741\n",
       "Name: clarity, dtype: int64"
      ]
     },
     "execution_count": 8,
     "metadata": {},
     "output_type": "execute_result"
    }
   ],
   "source": [
    "data['clarity'].value_counts()"
   ]
  },
  {
   "cell_type": "code",
   "execution_count": 9,
   "id": "eb89585a",
   "metadata": {},
   "outputs": [],
   "source": [
    "# encode the values to categorical variables in cut\n",
    "cut_map = {'Fair':0, 'Good':1, 'Very Good':2, 'Premium':3, 'Ideal':4}\n",
    "data['cut'] = data['cut'].map(cut_map)\n",
    "\n",
    "# encode the values to categorical varibales in color\n",
    "color_map = {'J':0, 'I':1, 'H':2, 'G':3, 'F':4, 'E':5, 'D':6}\n",
    "data['color'] = data['color'].map(color_map)\n",
    "\n",
    "# encode the values to categorical variables in clarity\n",
    "clarity_map = {'I1': 0, 'SI2': 1, 'SI1': 2, 'VS2': 3, 'VS1': 4, 'VVS2': 5, 'VVS1': 6, 'IF': 7}\n",
    "data['clarity'] = data['clarity'].map(clarity_map)"
   ]
  },
  {
   "cell_type": "code",
   "execution_count": 10,
   "id": "20a0637e",
   "metadata": {},
   "outputs": [],
   "source": [
    "data = data.drop(data[data['x']==0].index)\n",
    "data = data.drop(data[data['y']==0].index)\n",
    "data = data.drop(data[data['z']==0].index)"
   ]
  },
  {
   "cell_type": "code",
   "execution_count": 11,
   "id": "92d1f755",
   "metadata": {},
   "outputs": [],
   "source": [
    "# dealing with outliers\n",
    "data = data[data['depth'] < data['depth'].quantile(0.99)]\n",
    "data = data[data['table'] < data['table'].quantile(0.99)]\n",
    "data = data[data['x'] < data['x'].quantile(0.99)]\n",
    "data = data[data['y'] < data['y'].quantile(0.99)]\n",
    "data = data[data['z'] < data['z'].quantile(0.99)]"
   ]
  },
  {
   "cell_type": "code",
   "execution_count": 12,
   "id": "00404bfe",
   "metadata": {},
   "outputs": [
    {
     "data": {
      "text/html": [
       "<div>\n",
       "<style scoped>\n",
       "    .dataframe tbody tr th:only-of-type {\n",
       "        vertical-align: middle;\n",
       "    }\n",
       "\n",
       "    .dataframe tbody tr th {\n",
       "        vertical-align: top;\n",
       "    }\n",
       "\n",
       "    .dataframe thead th {\n",
       "        text-align: right;\n",
       "    }\n",
       "</style>\n",
       "<table border=\"1\" class=\"dataframe\">\n",
       "  <thead>\n",
       "    <tr style=\"text-align: right;\">\n",
       "      <th></th>\n",
       "      <th>carat</th>\n",
       "      <th>cut</th>\n",
       "      <th>color</th>\n",
       "      <th>clarity</th>\n",
       "      <th>depth</th>\n",
       "      <th>table</th>\n",
       "      <th>price</th>\n",
       "      <th>x</th>\n",
       "      <th>y</th>\n",
       "      <th>z</th>\n",
       "    </tr>\n",
       "  </thead>\n",
       "  <tbody>\n",
       "    <tr>\n",
       "      <th>1</th>\n",
       "      <td>0.23</td>\n",
       "      <td>4</td>\n",
       "      <td>5</td>\n",
       "      <td>1</td>\n",
       "      <td>61.5</td>\n",
       "      <td>55.0</td>\n",
       "      <td>326</td>\n",
       "      <td>3.95</td>\n",
       "      <td>3.98</td>\n",
       "      <td>2.43</td>\n",
       "    </tr>\n",
       "    <tr>\n",
       "      <th>2</th>\n",
       "      <td>0.21</td>\n",
       "      <td>3</td>\n",
       "      <td>5</td>\n",
       "      <td>2</td>\n",
       "      <td>59.8</td>\n",
       "      <td>61.0</td>\n",
       "      <td>326</td>\n",
       "      <td>3.89</td>\n",
       "      <td>3.84</td>\n",
       "      <td>2.31</td>\n",
       "    </tr>\n",
       "    <tr>\n",
       "      <th>4</th>\n",
       "      <td>0.29</td>\n",
       "      <td>3</td>\n",
       "      <td>1</td>\n",
       "      <td>3</td>\n",
       "      <td>62.4</td>\n",
       "      <td>58.0</td>\n",
       "      <td>334</td>\n",
       "      <td>4.20</td>\n",
       "      <td>4.23</td>\n",
       "      <td>2.63</td>\n",
       "    </tr>\n",
       "    <tr>\n",
       "      <th>5</th>\n",
       "      <td>0.31</td>\n",
       "      <td>1</td>\n",
       "      <td>0</td>\n",
       "      <td>1</td>\n",
       "      <td>63.3</td>\n",
       "      <td>58.0</td>\n",
       "      <td>335</td>\n",
       "      <td>4.34</td>\n",
       "      <td>4.35</td>\n",
       "      <td>2.75</td>\n",
       "    </tr>\n",
       "    <tr>\n",
       "      <th>6</th>\n",
       "      <td>0.24</td>\n",
       "      <td>2</td>\n",
       "      <td>0</td>\n",
       "      <td>5</td>\n",
       "      <td>62.8</td>\n",
       "      <td>57.0</td>\n",
       "      <td>336</td>\n",
       "      <td>3.94</td>\n",
       "      <td>3.96</td>\n",
       "      <td>2.48</td>\n",
       "    </tr>\n",
       "  </tbody>\n",
       "</table>\n",
       "</div>"
      ],
      "text/plain": [
       "   carat  cut  color  clarity  depth  table  price     x     y     z\n",
       "1   0.23    4      5        1   61.5   55.0    326  3.95  3.98  2.43\n",
       "2   0.21    3      5        2   59.8   61.0    326  3.89  3.84  2.31\n",
       "4   0.29    3      1        3   62.4   58.0    334  4.20  4.23  2.63\n",
       "5   0.31    1      0        1   63.3   58.0    335  4.34  4.35  2.75\n",
       "6   0.24    2      0        5   62.8   57.0    336  3.94  3.96  2.48"
      ]
     },
     "execution_count": 12,
     "metadata": {},
     "output_type": "execute_result"
    }
   ],
   "source": [
    "data.head()"
   ]
  },
  {
   "cell_type": "code",
   "execution_count": 13,
   "id": "93195d99",
   "metadata": {},
   "outputs": [
    {
     "data": {
      "text/plain": [
       "(51130, 10)"
      ]
     },
     "execution_count": 13,
     "metadata": {},
     "output_type": "execute_result"
    }
   ],
   "source": [
    "data.shape"
   ]
  },
  {
   "cell_type": "code",
   "execution_count": 14,
   "id": "4aa39d4f",
   "metadata": {},
   "outputs": [
    {
     "data": {
      "text/plain": [
       "2810"
      ]
     },
     "execution_count": 14,
     "metadata": {},
     "output_type": "execute_result"
    }
   ],
   "source": [
    "53940 - 51130"
   ]
  },
  {
   "cell_type": "code",
   "execution_count": 15,
   "id": "ce1a8f21",
   "metadata": {},
   "outputs": [
    {
     "data": {
      "text/html": [
       "<div>\n",
       "<style scoped>\n",
       "    .dataframe tbody tr th:only-of-type {\n",
       "        vertical-align: middle;\n",
       "    }\n",
       "\n",
       "    .dataframe tbody tr th {\n",
       "        vertical-align: top;\n",
       "    }\n",
       "\n",
       "    .dataframe thead th {\n",
       "        text-align: right;\n",
       "    }\n",
       "</style>\n",
       "<table border=\"1\" class=\"dataframe\">\n",
       "  <thead>\n",
       "    <tr style=\"text-align: right;\">\n",
       "      <th></th>\n",
       "      <th>carat</th>\n",
       "      <th>cut</th>\n",
       "      <th>color</th>\n",
       "      <th>clarity</th>\n",
       "      <th>depth</th>\n",
       "      <th>table</th>\n",
       "      <th>price</th>\n",
       "      <th>x</th>\n",
       "      <th>y</th>\n",
       "      <th>z</th>\n",
       "    </tr>\n",
       "  </thead>\n",
       "  <tbody>\n",
       "    <tr>\n",
       "      <th>carat</th>\n",
       "      <td>1.000000</td>\n",
       "      <td>-0.120075</td>\n",
       "      <td>-0.240616</td>\n",
       "      <td>-0.317281</td>\n",
       "      <td>0.007683</td>\n",
       "      <td>0.189037</td>\n",
       "      <td>0.909757</td>\n",
       "      <td>0.984033</td>\n",
       "      <td>0.983335</td>\n",
       "      <td>0.982462</td>\n",
       "    </tr>\n",
       "    <tr>\n",
       "      <th>cut</th>\n",
       "      <td>-0.120075</td>\n",
       "      <td>1.000000</td>\n",
       "      <td>0.010195</td>\n",
       "      <td>0.171938</td>\n",
       "      <td>-0.183709</td>\n",
       "      <td>-0.410072</td>\n",
       "      <td>-0.045488</td>\n",
       "      <td>-0.109739</td>\n",
       "      <td>-0.112521</td>\n",
       "      <td>-0.132260</td>\n",
       "    </tr>\n",
       "    <tr>\n",
       "      <th>color</th>\n",
       "      <td>-0.240616</td>\n",
       "      <td>0.010195</td>\n",
       "      <td>1.000000</td>\n",
       "      <td>-0.051846</td>\n",
       "      <td>-0.043652</td>\n",
       "      <td>-0.018744</td>\n",
       "      <td>-0.107225</td>\n",
       "      <td>-0.223167</td>\n",
       "      <td>-0.223164</td>\n",
       "      <td>-0.227537</td>\n",
       "    </tr>\n",
       "    <tr>\n",
       "      <th>clarity</th>\n",
       "      <td>-0.317281</td>\n",
       "      <td>0.171938</td>\n",
       "      <td>-0.051846</td>\n",
       "      <td>1.000000</td>\n",
       "      <td>-0.046141</td>\n",
       "      <td>-0.159224</td>\n",
       "      <td>-0.085324</td>\n",
       "      <td>-0.339735</td>\n",
       "      <td>-0.334478</td>\n",
       "      <td>-0.341368</td>\n",
       "    </tr>\n",
       "    <tr>\n",
       "      <th>depth</th>\n",
       "      <td>0.007683</td>\n",
       "      <td>-0.183709</td>\n",
       "      <td>-0.043652</td>\n",
       "      <td>-0.046141</td>\n",
       "      <td>1.000000</td>\n",
       "      <td>-0.296705</td>\n",
       "      <td>-0.014495</td>\n",
       "      <td>-0.042004</td>\n",
       "      <td>-0.043236</td>\n",
       "      <td>0.073396</td>\n",
       "    </tr>\n",
       "    <tr>\n",
       "      <th>table</th>\n",
       "      <td>0.189037</td>\n",
       "      <td>-0.410072</td>\n",
       "      <td>-0.018744</td>\n",
       "      <td>-0.159224</td>\n",
       "      <td>-0.296705</td>\n",
       "      <td>1.000000</td>\n",
       "      <td>0.128550</td>\n",
       "      <td>0.194649</td>\n",
       "      <td>0.189486</td>\n",
       "      <td>0.157847</td>\n",
       "    </tr>\n",
       "    <tr>\n",
       "      <th>price</th>\n",
       "      <td>0.909757</td>\n",
       "      <td>-0.045488</td>\n",
       "      <td>-0.107225</td>\n",
       "      <td>-0.085324</td>\n",
       "      <td>-0.014495</td>\n",
       "      <td>0.128550</td>\n",
       "      <td>1.000000</td>\n",
       "      <td>0.873697</td>\n",
       "      <td>0.875078</td>\n",
       "      <td>0.870510</td>\n",
       "    </tr>\n",
       "    <tr>\n",
       "      <th>x</th>\n",
       "      <td>0.984033</td>\n",
       "      <td>-0.109739</td>\n",
       "      <td>-0.223167</td>\n",
       "      <td>-0.339735</td>\n",
       "      <td>-0.042004</td>\n",
       "      <td>0.194649</td>\n",
       "      <td>0.873697</td>\n",
       "      <td>1.000000</td>\n",
       "      <td>0.998597</td>\n",
       "      <td>0.991793</td>\n",
       "    </tr>\n",
       "    <tr>\n",
       "      <th>y</th>\n",
       "      <td>0.983335</td>\n",
       "      <td>-0.112521</td>\n",
       "      <td>-0.223164</td>\n",
       "      <td>-0.334478</td>\n",
       "      <td>-0.043236</td>\n",
       "      <td>0.189486</td>\n",
       "      <td>0.875078</td>\n",
       "      <td>0.998597</td>\n",
       "      <td>1.000000</td>\n",
       "      <td>0.991680</td>\n",
       "    </tr>\n",
       "    <tr>\n",
       "      <th>z</th>\n",
       "      <td>0.982462</td>\n",
       "      <td>-0.132260</td>\n",
       "      <td>-0.227537</td>\n",
       "      <td>-0.341368</td>\n",
       "      <td>0.073396</td>\n",
       "      <td>0.157847</td>\n",
       "      <td>0.870510</td>\n",
       "      <td>0.991793</td>\n",
       "      <td>0.991680</td>\n",
       "      <td>1.000000</td>\n",
       "    </tr>\n",
       "  </tbody>\n",
       "</table>\n",
       "</div>"
      ],
      "text/plain": [
       "            carat       cut     color   clarity     depth     table     price  \\\n",
       "carat    1.000000 -0.120075 -0.240616 -0.317281  0.007683  0.189037  0.909757   \n",
       "cut     -0.120075  1.000000  0.010195  0.171938 -0.183709 -0.410072 -0.045488   \n",
       "color   -0.240616  0.010195  1.000000 -0.051846 -0.043652 -0.018744 -0.107225   \n",
       "clarity -0.317281  0.171938 -0.051846  1.000000 -0.046141 -0.159224 -0.085324   \n",
       "depth    0.007683 -0.183709 -0.043652 -0.046141  1.000000 -0.296705 -0.014495   \n",
       "table    0.189037 -0.410072 -0.018744 -0.159224 -0.296705  1.000000  0.128550   \n",
       "price    0.909757 -0.045488 -0.107225 -0.085324 -0.014495  0.128550  1.000000   \n",
       "x        0.984033 -0.109739 -0.223167 -0.339735 -0.042004  0.194649  0.873697   \n",
       "y        0.983335 -0.112521 -0.223164 -0.334478 -0.043236  0.189486  0.875078   \n",
       "z        0.982462 -0.132260 -0.227537 -0.341368  0.073396  0.157847  0.870510   \n",
       "\n",
       "                x         y         z  \n",
       "carat    0.984033  0.983335  0.982462  \n",
       "cut     -0.109739 -0.112521 -0.132260  \n",
       "color   -0.223167 -0.223164 -0.227537  \n",
       "clarity -0.339735 -0.334478 -0.341368  \n",
       "depth   -0.042004 -0.043236  0.073396  \n",
       "table    0.194649  0.189486  0.157847  \n",
       "price    0.873697  0.875078  0.870510  \n",
       "x        1.000000  0.998597  0.991793  \n",
       "y        0.998597  1.000000  0.991680  \n",
       "z        0.991793  0.991680  1.000000  "
      ]
     },
     "execution_count": 15,
     "metadata": {},
     "output_type": "execute_result"
    }
   ],
   "source": [
    "data.corr()"
   ]
  },
  {
   "cell_type": "code",
   "execution_count": 16,
   "id": "75a9ed9b",
   "metadata": {},
   "outputs": [
    {
     "data": {
      "image/png": "[encoded data removed]",
      "text/plain": [
       "<Figure size 432x288 with 2 Axes>"
      ]
     },
     "metadata": {
      "needs_background": "light"
     },
     "output_type": "display_data"
    }
   ],
   "source": [
    "sns.heatmap(data.corr(), annot = True, linewidth = 0.5, cmap = 'Blues')\n",
    "plt.show()"
   ]
  },
  {
   "cell_type": "code",
   "execution_count": 17,
   "id": "833feca6",
   "metadata": {},
   "outputs": [],
   "source": [
    "model_data = data.copy()\n",
    "\n",
    "X = model_data.drop(['price'], axis = 1)\n",
    "y = model_data['price']\n",
    "\n",
    "X_train_val, X_test, y_train_val, y_test = train_test_split(X, y, test_size=0.2, random_state=0)\n",
    "X_train, X_val, y_train, y_val = train_test_split(X_train_val, y_train_val, test_size=0.25, random_state=0)"
   ]
  },
  {
   "cell_type": "code",
   "execution_count": 21,
   "id": "d739fd5b",
   "metadata": {},
   "outputs": [
    {
     "name": "stderr",
     "output_type": "stream",
     "text": [
      "/Users/anuragkotiyal/miniforge3/lib/python3.9/site-packages/xgboost/sklearn.py:861: UserWarning: `eval_metric` in `fit` method is deprecated for better compatibility with scikit-learn, use `eval_metric` in constructor or`set_params` instead.\n",
      "  warnings.warn(\n",
      "/Users/anuragkotiyal/miniforge3/lib/python3.9/site-packages/xgboost/sklearn.py:861: UserWarning: `early_stopping_rounds` in `fit` method is deprecated for better compatibility with scikit-learn, use `early_stopping_rounds` in constructor or`set_params` instead.\n",
      "  warnings.warn(\n"
     ]
    }
   ],
   "source": [
    "xgb1 = XGBRegressor()\n",
    "\n",
    "parameters = {\n",
    "                'objective':['reg:squarederror'],\n",
    "                'learning_rate': [0.001, 0.01, 0.1],\n",
    "                'max_depth': [3, 5, 7, 9],\n",
    "                'min_child_weight': [3, 5, 7],\n",
    "                'subsample': [0.1, 0.5, 1.0],\n",
    "                'colsample_bytree': [0.1, 0.5, 1.0]}\n",
    "\n",
    "xgb_grid = GridSearchCV(xgb1,\n",
    "                       parameters,\n",
    "                       cv = 3,\n",
    "                       n_jobs = -1,\n",
    "                       verbose = 0)\n",
    "\n",
    "xgb_grid.fit(X_train, y_train)\n",
    "\n",
    "xgb_cv = (xgb_grid.best_estimator_)\n",
    "\n",
    "eval_set = [(X_train, y_train),\n",
    "           (X_val, y_val)]\n",
    "\n",
    "model = xgb_cv.fit(X_train,\n",
    "                   y_train,\n",
    "                   eval_set = eval_set,\n",
    "                   eval_metric = 'mae',\n",
    "                   early_stopping_rounds = 50,\n",
    "                   verbose = False)"
   ]
  },
  {
   "cell_type": "code",
   "execution_count": 22,
   "id": "cf48ebac",
   "metadata": {},
   "outputs": [
    {
     "name": "stdout",
     "output_type": "stream",
     "text": [
      "MAE: 235.81744111402614\n",
      "MSE: 202079.94953581336\n",
      "R2: 0.9830441282600116\n"
     ]
    }
   ],
   "source": [
    "print(\"MAE:\", mean_absolute_error(y_val, model.predict(X_val)))\n",
    "print(\"MSE:\", mean_squared_error(y_val, model.predict(X_val)))\n",
    "print(\"R2:\", r2_score(y_val, model.predict(X_val)))"
   ]
  },
  {
   "cell_type": "code",
   "execution_count": 23,
   "id": "7309fcf9",
   "metadata": {},
   "outputs": [],
   "source": [
    "model.save_model('xgb_model.json')"
   ]
  }
 ],
 "metadata": {
  "kernelspec": {
   "display_name": "Python 3 (ipykernel)",
   "language": "python",
   "name": "python3"
  },
  "language_info": {
   "codemirror_mode": {
    "name": "ipython",
    "version": 3
   },
   "file_extension": ".py",
   "mimetype": "text/x-python",
   "name": "python",
   "nbconvert_exporter": "python",
   "pygments_lexer": "ipython3",
   "version": "3.9.13"
  }
 },
 "nbformat": 4,
 "nbformat_minor": 5
}
